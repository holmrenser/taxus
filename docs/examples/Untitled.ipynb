{
 "cells": [
  {
   "cell_type": "code",
   "execution_count": 1,
   "id": "3f80823f-0389-457f-b690-dc032c145e80",
   "metadata": {},
   "outputs": [
    {
     "name": "stderr",
     "output_type": "stream",
     "text": [
      "Fitting GP:  16%|███████████████████████▉                                                                                                                            | 97/600 [00:00<00:01, 435.78it/s, loss=3.92]\n"
     ]
    },
    {
     "data": {
      "text/plain": [
       "3.916391372680664"
      ]
     },
     "execution_count": 1,
     "metadata": {},
     "output_type": "execute_result"
    },
    {
     "data": {
      "text/plain": [
       "<Figure size 72x72 with 0 Axes>"
      ]
     },
     "metadata": {},
     "output_type": "display_data"
    }
   ],
   "source": [
    "import torch\n",
    "import taxus as tx\n",
    "import pandas as pd\n",
    "import numpy as np\n",
    "from matplotlib import pyplot as plt\n",
    "from plotnine import (\n",
    "    ggplot, geom_point, geom_jitter, geom_line, geom_smooth, geom_ribbon, geom_rect, geom_boxplot,\n",
    "    aes, facet_wrap, theme_bw, theme_void, theme_matplotlib, theme_linedraw, theme_minimal, theme_seaborn,\n",
    "    theme, ylim, ggtitle\n",
    ")\n",
    "import patchworklib as pw\n",
    "\n",
    "train_x_df = pd.DataFrame(\n",
    "    dict(\n",
    "        a=[1., 2., 2., 4.],\n",
    "        b=[3., 4., 2., 5.],\n",
    "        c=[5., 6., 6., 9.]\n",
    "    )\n",
    ")\n",
    "\n",
    "train_y_df = pd.DataFrame(\n",
    "    dict(\n",
    "        d=[10., 15., 20., 21.],\n",
    "        e=[30., 14., 21., 25.],\n",
    "    )\n",
    ").T\n",
    "gp = tx.GP('~ a + b + c', train_x_df, pd.DataFrame(train_y_df.loc['e']), likelihood='poisson', kernel='rbf')\n",
    "gp.fit(debug=True)"
   ]
  },
  {
   "cell_type": "code",
   "execution_count": 2,
   "id": "d7e90ce9-e135-426f-85fd-96b246c1f814",
   "metadata": {},
   "outputs": [
    {
     "data": {
      "text/plain": [
       "{'raw_outputscale': Parameter containing:\n",
       " tensor(-3.7170, requires_grad=True),\n",
       " 'base_kernel.raw_lengthscale': Parameter containing:\n",
       " tensor([[-1.8375, -1.3179, -1.3011]], requires_grad=True)}"
      ]
     },
     "execution_count": 2,
     "metadata": {},
     "output_type": "execute_result"
    }
   ],
   "source": [
    "dict(gp.covar_module.named_parameters())"
   ]
  },
  {
   "cell_type": "code",
   "execution_count": 3,
   "id": "c6bad1db-f721-47df-9740-a029759cc521",
   "metadata": {},
   "outputs": [
    {
     "data": {
      "text/plain": [
       "{'constant': Parameter containing:\n",
       " tensor([3.0991], requires_grad=True)}"
      ]
     },
     "execution_count": 3,
     "metadata": {},
     "output_type": "execute_result"
    }
   ],
   "source": [
    "dict(gp.mean_module.named_parameters())"
   ]
  },
  {
   "cell_type": "code",
   "execution_count": 4,
   "id": "cb2d3266-6d71-4b79-a4b5-0d0cebfe9eff",
   "metadata": {},
   "outputs": [
    {
     "data": {
      "text/plain": [
       "tensor(3.1135)"
      ]
     },
     "execution_count": 4,
     "metadata": {},
     "output_type": "execute_result"
    }
   ],
   "source": [
    "torch.log(gp.train_y.mean())"
   ]
  },
  {
   "cell_type": "code",
   "execution_count": 5,
   "id": "ce4787de-c510-4047-97bc-023260906363",
   "metadata": {},
   "outputs": [
    {
     "name": "stderr",
     "output_type": "stream",
     "text": [
      "Fitting GP:   9%|█████████████▍                                                                                                                                              | 429/5000 [00:00<00:08, 568.41it/s, loss=5.29]\n",
      "Fitting GP:  32%|█████████████████████████████████████████████████▍                                                                                                         | 1593/5000 [00:03<00:07, 441.58it/s, loss=4.81]\n"
     ]
    }
   ],
   "source": [
    "import numpy as np\n",
    "\n",
    "# x = np.arange(1, 13.1, .1)\n",
    "x = np.array([*[2]*7, *[5]*5, *[7.2]*10, *[10]*2])\n",
    "y = 30 * (np.exp(np.sin(x) * .3 * x) + (2 * np.random.rand(len(x))))\n",
    "\n",
    "train_x_df = pd.DataFrame(dict(x=x))\n",
    "train_y_df = pd.DataFrame(dict(y=y))\n",
    "\n",
    "test_x_df = pd.DataFrame(dict(x=np.unique(x)))\n",
    "\n",
    "\n",
    "gp1 = tx.GP('~ x', train_x_df, train_y_df, likelihood='poisson', kernel='rbf')\n",
    "gp1.fit(n_steps=5000, tol=1e-6, lr=0.05, debug=True)\n",
    "percentiles1 = gp1.predict(test_x_df, percentiles=[1, 25, 50, 75, 99])\n",
    "\n",
    "gp2 = tx.GP('~ C(x)', train_x_df, train_y_df, likelihood='nb', kernel='linear')\n",
    "gp2.fit(n_steps=5000, tol=1e-6, lr=0.01, debug=True)\n",
    "percentiles2 = gp2.predict(test_x_df, percentiles=[1, 25, 50, 75, 99])\n",
    "\n",
    "train_df = pd.concat([train_x_df, train_y_df], axis=1)\n",
    "test_df1 = pd.concat([test_x_df, percentiles1], axis=1)\n",
    "test_df2 = pd.concat([test_x_df, percentiles2], axis=1)"
   ]
  },
  {
   "cell_type": "code",
   "execution_count": 6,
   "id": "5a5de375-906a-4192-9dbb-47835394253c",
   "metadata": {},
   "outputs": [
    {
     "data": {
      "text/plain": [
       "<matplotlib.legend.Legend at 0x14fbda100>"
      ]
     },
     "execution_count": 6,
     "metadata": {},
     "output_type": "execute_result"
    },
    {
     "data": {
      "image/png": "[encoded data removed]",
      "text/plain": [
       "<Figure size 720x360 with 1 Axes>"
      ]
     },
     "metadata": {
      "needs_background": "light"
     },
     "output_type": "display_data"
    }
   ],
   "source": [
    "fig,ax = plt.subplots(1, figsize=(10,5))\n",
    "ax.plot(gp1.losses_, label='gp1')\n",
    "ax.plot(gp2.losses_, label='gp2')\n",
    "ax.set_yscale('log')\n",
    "ax.set_xscale('log')\n",
    "ax.legend()"
   ]
  },
  {
   "cell_type": "code",
   "execution_count": 7,
   "id": "9d2e78c7-38bf-41ec-91ef-c19264a29725",
   "metadata": {},
   "outputs": [
    {
     "data": {
      "image/png": "[encoded data removed]",
      "text/plain": [
       "<Figure size 72x72 with 5 Axes>"
      ]
     },
     "execution_count": 7,
     "metadata": {},
     "output_type": "execute_result"
    }
   ],
   "source": [
    "p1 = (\n",
    "    ggplot(train_df, aes(x='factor(x)', y='y'))\n",
    "    + geom_boxplot(aes(x='factor(x)', ymin='p1', lower='p25', middle='p50', upper='p75',\n",
    "                       ymax='p99', group='x'),\n",
    "                   data=test_df1, inherit_aes=False, alpha=0.5, stat='stat_identity', width=.1)\n",
    "    + geom_jitter(width=.1)\n",
    "    + theme_minimal()\n",
    ")\n",
    "\n",
    "p2 = (\n",
    "    ggplot(train_df, aes(x='factor(x)', y='y'))\n",
    "    + geom_boxplot(aes(x='factor(x)', ymin='p1', lower='p25', middle='p50', upper='p75',\n",
    "                       ymax='p99', y='mean', group='x'),\n",
    "                   data=test_df2, inherit_aes=False, alpha=0.5, stat='stat_identity', width=.1)\n",
    "    + geom_jitter(width=.1)\n",
    "    + theme_minimal()\n",
    ")\n",
    "\n",
    "p1 = pw.load_ggplot(p1, figsize=(3,5))\n",
    "p2 = pw.load_ggplot(p2, figsize=(3,5))\n",
    "p12 = (p1|p2)\n",
    "p12.savefig()\n"
   ]
  },
  {
   "cell_type": "code",
   "execution_count": 15,
   "id": "c6d27ee3-96df-4227-9def-d19a0238bbca",
   "metadata": {},
   "outputs": [
    {
     "name": "stderr",
     "output_type": "stream",
     "text": [
      "Fitting GP:   6%|██████████                                                                                                                                                  | 322/5000 [00:00<00:08, 579.54it/s, loss=5.29]\n"
     ]
    },
    {
     "data": {
      "text/plain": [
       "tensor([[0.0375]], grad_fn=<SoftplusBackward0>)"
      ]
     },
     "execution_count": 15,
     "metadata": {},
     "output_type": "execute_result"
    }
   ],
   "source": [
    "\n",
    "gp = tx.GP('~ x', train_x_df, train_y_df, likelihood='poisson', kernel='rbf')\n",
    "gp.fit(n_steps=5000, tol=1e-6, lr=0.3, debug=True)\n",
    "optimized_lengthscale = gp.covar_module.base_kernel.lengthscale\n",
    "optimized_lengthscale"
   ]
  },
  {
   "cell_type": "code",
   "execution_count": 16,
   "id": "10b62554-8027-482d-8d73-802818e8f684",
   "metadata": {},
   "outputs": [],
   "source": [
    "# gp.covar_module.base_kernel.lengthscale = torch.tensor([.1])\n",
    "test_x_df = pd.DataFrame(dict(x=np.arange(2,12,.1)))\n",
    "percentiles = gp.predict(test_x_df)\n",
    "train_df = pd.concat([train_x_df, train_y_df], axis=1)\n",
    "test_df = pd.concat([test_x_df, percentiles], axis=1)"
   ]
  },
  {
   "cell_type": "code",
   "execution_count": 20,
   "id": "0a7bcf04-457a-4ef3-944a-822b8dffd016",
   "metadata": {},
   "outputs": [
    {
     "data": {
      "image/png": "[encoded data removed]",
      "text/plain": [
       "<Figure size 72x72 with 2 Axes>"
      ]
     },
     "execution_count": 20,
     "metadata": {},
     "output_type": "execute_result"
    }
   ],
   "source": [
    "p = (\n",
    "    ggplot(train_df, aes(x='x', y='y'))\n",
    "    + geom_jitter(width=.2)\n",
    "    + geom_smooth(aes(x='x', y='p50'), method='lowess', span=.05, linetype='dashed', alpha=.7, size=.8,\n",
    "                 data=test_df, inherit_aes=False)\n",
    "    + geom_smooth(aes(x='x', y='mean'), method='lowess', span=.05, alpha=.7, size=.8,\n",
    "                 data=test_df, inherit_aes=False)\n",
    "    + geom_ribbon(mapping=aes(x='x', ymin='p0.5', ymax='p99.5'), alpha=.1,\n",
    "                 data=test_df, inherit_aes=False)\n",
    "    + geom_ribbon(mapping=aes(x='x', ymin='p2.5', ymax='p97.5'), alpha=.2,\n",
    "                 data=test_df, inherit_aes=False)\n",
    "    + geom_ribbon(mapping=aes(x='x', ymin='p5', ymax='p95'), alpha=.3,\n",
    "                 data=test_df, inherit_aes=False)\n",
    "    + theme_minimal()\n",
    ")\n",
    "\n",
    "pw.load_ggplot(p, figsize=(8,5)).savefig()"
   ]
  },
  {
   "cell_type": "code",
   "execution_count": 9,
   "id": "d345b828-7e38-422e-bf39-30e6b0f2e685",
   "metadata": {},
   "outputs": [
    {
     "data": {
      "text/plain": [
       "{'raw_outputscale': Parameter containing:\n",
       " tensor(-0.4222, requires_grad=True),\n",
       " 'base_kernel.raw_lengthscale': Parameter containing:\n",
       " tensor([[-5.8879]], requires_grad=True)}"
      ]
     },
     "execution_count": 9,
     "metadata": {},
     "output_type": "execute_result"
    }
   ],
   "source": [
    "dict(gp.covar_module.named_parameters())"
   ]
  },
  {
   "cell_type": "code",
   "execution_count": 10,
   "id": "44ed76bf-2def-451d-a46d-c96223ecb33c",
   "metadata": {},
   "outputs": [
    {
     "data": {
      "text/plain": [
       "{'alpha': Parameter containing:\n",
       " tensor([0.0665], requires_grad=True)}"
      ]
     },
     "execution_count": 10,
     "metadata": {},
     "output_type": "execute_result"
    }
   ],
   "source": [
    "dict(gp.likelihood.named_parameters())"
   ]
  },
  {
   "cell_type": "code",
   "execution_count": 21,
   "id": "440c968e-efce-4faf-96e8-3763111107bd",
   "metadata": {},
   "outputs": [
    {
     "data": {
      "text/html": [
       "<div>\n",
       "<style scoped>\n",
       "    .dataframe tbody tr th:only-of-type {\n",
       "        vertical-align: middle;\n",
       "    }\n",
       "\n",
       "    .dataframe tbody tr th {\n",
       "        vertical-align: top;\n",
       "    }\n",
       "\n",
       "    .dataframe thead th {\n",
       "        text-align: right;\n",
       "    }\n",
       "</style>\n",
       "<table border=\"1\" class=\"dataframe\">\n",
       "  <thead>\n",
       "    <tr style=\"text-align: right;\">\n",
       "      <th></th>\n",
       "      <th></th>\n",
       "      <th>X02_CL</th>\n",
       "      <th>X02_LD</th>\n",
       "      <th>X05_CL</th>\n",
       "      <th>X05_LD</th>\n",
       "      <th>X08_CL</th>\n",
       "      <th>X08_LD</th>\n",
       "      <th>X11_CL</th>\n",
       "      <th>X11_LD</th>\n",
       "      <th>X14_CL</th>\n",
       "      <th>X14_LD</th>\n",
       "      <th>...</th>\n",
       "      <th>X35_CL</th>\n",
       "      <th>X35_LD</th>\n",
       "      <th>X38_CL</th>\n",
       "      <th>X38_LD</th>\n",
       "      <th>X41_CL</th>\n",
       "      <th>X41_LD</th>\n",
       "      <th>X44_CL</th>\n",
       "      <th>X44_LD</th>\n",
       "      <th>X47_CL</th>\n",
       "      <th>X47_LD</th>\n",
       "    </tr>\n",
       "    <tr>\n",
       "      <th>gene_id</th>\n",
       "      <th>gene_name</th>\n",
       "      <th></th>\n",
       "      <th></th>\n",
       "      <th></th>\n",
       "      <th></th>\n",
       "      <th></th>\n",
       "      <th></th>\n",
       "      <th></th>\n",
       "      <th></th>\n",
       "      <th></th>\n",
       "      <th></th>\n",
       "      <th></th>\n",
       "      <th></th>\n",
       "      <th></th>\n",
       "      <th></th>\n",
       "      <th></th>\n",
       "      <th></th>\n",
       "      <th></th>\n",
       "      <th></th>\n",
       "      <th></th>\n",
       "      <th></th>\n",
       "      <th></th>\n",
       "    </tr>\n",
       "  </thead>\n",
       "  <tbody>\n",
       "    <tr>\n",
       "      <th>AT1G01010</th>\n",
       "      <th>NAC001</th>\n",
       "      <td>390.293893</td>\n",
       "      <td>349.524048</td>\n",
       "      <td>388.666491</td>\n",
       "      <td>273.408022</td>\n",
       "      <td>309.093640</td>\n",
       "      <td>317.932202</td>\n",
       "      <td>267.178791</td>\n",
       "      <td>434.167596</td>\n",
       "      <td>256.892941</td>\n",
       "      <td>275.799858</td>\n",
       "      <td>...</td>\n",
       "      <td>386.689784</td>\n",
       "      <td>291.579265</td>\n",
       "      <td>288.363481</td>\n",
       "      <td>494.573598</td>\n",
       "      <td>317.088005</td>\n",
       "      <td>339.475567</td>\n",
       "      <td>304.036414</td>\n",
       "      <td>446.340484</td>\n",
       "      <td>317.325031</td>\n",
       "      <td>477.275322</td>\n",
       "    </tr>\n",
       "    <tr>\n",
       "      <th>AT1G01020</th>\n",
       "      <th>ARV1</th>\n",
       "      <td>208.070585</td>\n",
       "      <td>254.531449</td>\n",
       "      <td>173.741643</td>\n",
       "      <td>234.008613</td>\n",
       "      <td>199.622976</td>\n",
       "      <td>214.908875</td>\n",
       "      <td>238.708920</td>\n",
       "      <td>242.508027</td>\n",
       "      <td>205.727542</td>\n",
       "      <td>270.803484</td>\n",
       "      <td>...</td>\n",
       "      <td>160.103139</td>\n",
       "      <td>238.719866</td>\n",
       "      <td>163.440673</td>\n",
       "      <td>245.276337</td>\n",
       "      <td>170.834236</td>\n",
       "      <td>268.053435</td>\n",
       "      <td>210.670901</td>\n",
       "      <td>248.920654</td>\n",
       "      <td>142.389437</td>\n",
       "      <td>205.110056</td>\n",
       "    </tr>\n",
       "    <tr>\n",
       "      <th>AT1G01030</th>\n",
       "      <th>NGA3</th>\n",
       "      <td>149.914211</td>\n",
       "      <td>171.717389</td>\n",
       "      <td>126.123563</td>\n",
       "      <td>151.628030</td>\n",
       "      <td>96.591763</td>\n",
       "      <td>127.394436</td>\n",
       "      <td>86.504609</td>\n",
       "      <td>155.478936</td>\n",
       "      <td>99.132961</td>\n",
       "      <td>92.932561</td>\n",
       "      <td>...</td>\n",
       "      <td>85.478794</td>\n",
       "      <td>106.571369</td>\n",
       "      <td>66.625497</td>\n",
       "      <td>163.852635</td>\n",
       "      <td>90.947722</td>\n",
       "      <td>145.489529</td>\n",
       "      <td>122.093363</td>\n",
       "      <td>173.815285</td>\n",
       "      <td>109.843280</td>\n",
       "      <td>186.702743</td>\n",
       "    </tr>\n",
       "    <tr>\n",
       "      <th>AT1G01040</th>\n",
       "      <th>DCL1</th>\n",
       "      <td>1055.861293</td>\n",
       "      <td>1144.782595</td>\n",
       "      <td>1190.452002</td>\n",
       "      <td>1246.454040</td>\n",
       "      <td>1161.247635</td>\n",
       "      <td>1200.831035</td>\n",
       "      <td>1240.629387</td>\n",
       "      <td>860.512353</td>\n",
       "      <td>1137.364183</td>\n",
       "      <td>1047.240041</td>\n",
       "      <td>...</td>\n",
       "      <td>1375.801549</td>\n",
       "      <td>1139.034790</td>\n",
       "      <td>1216.956351</td>\n",
       "      <td>975.073964</td>\n",
       "      <td>1275.726162</td>\n",
       "      <td>982.274757</td>\n",
       "      <td>1554.894887</td>\n",
       "      <td>1173.789637</td>\n",
       "      <td>1282.861022</td>\n",
       "      <td>1217.512254</td>\n",
       "    </tr>\n",
       "    <tr>\n",
       "      <th>AT1G01046</th>\n",
       "      <th>MIR838A</th>\n",
       "      <td>0.000000</td>\n",
       "      <td>1.217854</td>\n",
       "      <td>0.000000</td>\n",
       "      <td>0.000000</td>\n",
       "      <td>0.000000</td>\n",
       "      <td>0.000000</td>\n",
       "      <td>0.000000</td>\n",
       "      <td>0.000000</td>\n",
       "      <td>0.000000</td>\n",
       "      <td>1.998550</td>\n",
       "      <td>...</td>\n",
       "      <td>1.356806</td>\n",
       "      <td>0.000000</td>\n",
       "      <td>0.000000</td>\n",
       "      <td>0.000000</td>\n",
       "      <td>1.229023</td>\n",
       "      <td>1.763509</td>\n",
       "      <td>0.000000</td>\n",
       "      <td>0.000000</td>\n",
       "      <td>0.000000</td>\n",
       "      <td>0.000000</td>\n",
       "    </tr>\n",
       "    <tr>\n",
       "      <th>...</th>\n",
       "      <th>...</th>\n",
       "      <td>...</td>\n",
       "      <td>...</td>\n",
       "      <td>...</td>\n",
       "      <td>...</td>\n",
       "      <td>...</td>\n",
       "      <td>...</td>\n",
       "      <td>...</td>\n",
       "      <td>...</td>\n",
       "      <td>...</td>\n",
       "      <td>...</td>\n",
       "      <td>...</td>\n",
       "      <td>...</td>\n",
       "      <td>...</td>\n",
       "      <td>...</td>\n",
       "      <td>...</td>\n",
       "      <td>...</td>\n",
       "      <td>...</td>\n",
       "      <td>...</td>\n",
       "      <td>...</td>\n",
       "      <td>...</td>\n",
       "      <td>...</td>\n",
       "    </tr>\n",
       "    <tr>\n",
       "      <th>ATMG01370</th>\n",
       "      <th>ORF111D</th>\n",
       "      <td>1.292364</td>\n",
       "      <td>20.703515</td>\n",
       "      <td>1.286975</td>\n",
       "      <td>17.908822</td>\n",
       "      <td>2.146484</td>\n",
       "      <td>17.724443</td>\n",
       "      <td>2.189990</td>\n",
       "      <td>22.490664</td>\n",
       "      <td>0.000000</td>\n",
       "      <td>32.976070</td>\n",
       "      <td>...</td>\n",
       "      <td>4.070419</td>\n",
       "      <td>23.019416</td>\n",
       "      <td>4.164094</td>\n",
       "      <td>13.068002</td>\n",
       "      <td>0.000000</td>\n",
       "      <td>24.689132</td>\n",
       "      <td>0.000000</td>\n",
       "      <td>21.458677</td>\n",
       "      <td>6.780449</td>\n",
       "      <td>19.722121</td>\n",
       "    </tr>\n",
       "    <tr>\n",
       "      <th>ATMG01380</th>\n",
       "      <th>RRN5</th>\n",
       "      <td>0.000000</td>\n",
       "      <td>1.217854</td>\n",
       "      <td>0.000000</td>\n",
       "      <td>2.387843</td>\n",
       "      <td>0.000000</td>\n",
       "      <td>0.000000</td>\n",
       "      <td>0.000000</td>\n",
       "      <td>2.933565</td>\n",
       "      <td>0.000000</td>\n",
       "      <td>2.997825</td>\n",
       "      <td>...</td>\n",
       "      <td>0.000000</td>\n",
       "      <td>2.557713</td>\n",
       "      <td>1.041023</td>\n",
       "      <td>2.010462</td>\n",
       "      <td>0.000000</td>\n",
       "      <td>4.408774</td>\n",
       "      <td>0.000000</td>\n",
       "      <td>0.000000</td>\n",
       "      <td>0.000000</td>\n",
       "      <td>5.259232</td>\n",
       "    </tr>\n",
       "    <tr>\n",
       "      <th>ATMG01390</th>\n",
       "      <th>RRN18</th>\n",
       "      <td>2014.795295</td>\n",
       "      <td>5350.031852</td>\n",
       "      <td>2082.325772</td>\n",
       "      <td>5821.561206</td>\n",
       "      <td>2714.228529</td>\n",
       "      <td>5921.071845</td>\n",
       "      <td>2375.044254</td>\n",
       "      <td>4878.518327</td>\n",
       "      <td>2039.154341</td>\n",
       "      <td>5254.187153</td>\n",
       "      <td>...</td>\n",
       "      <td>1704.148664</td>\n",
       "      <td>6611.687725</td>\n",
       "      <td>1289.827989</td>\n",
       "      <td>6408.346929</td>\n",
       "      <td>1246.229603</td>\n",
       "      <td>5934.209258</td>\n",
       "      <td>1100.037260</td>\n",
       "      <td>5201.583329</td>\n",
       "      <td>1129.622866</td>\n",
       "      <td>5081.733113</td>\n",
       "    </tr>\n",
       "    <tr>\n",
       "      <th>ATMG01400</th>\n",
       "      <th>ORF105B</th>\n",
       "      <td>0.000000</td>\n",
       "      <td>0.000000</td>\n",
       "      <td>0.000000</td>\n",
       "      <td>0.000000</td>\n",
       "      <td>0.000000</td>\n",
       "      <td>1.107778</td>\n",
       "      <td>0.000000</td>\n",
       "      <td>0.977855</td>\n",
       "      <td>0.000000</td>\n",
       "      <td>0.000000</td>\n",
       "      <td>...</td>\n",
       "      <td>0.000000</td>\n",
       "      <td>0.000000</td>\n",
       "      <td>0.000000</td>\n",
       "      <td>0.000000</td>\n",
       "      <td>0.000000</td>\n",
       "      <td>0.000000</td>\n",
       "      <td>0.000000</td>\n",
       "      <td>1.072934</td>\n",
       "      <td>0.000000</td>\n",
       "      <td>0.000000</td>\n",
       "    </tr>\n",
       "    <tr>\n",
       "      <th>ATMG01410</th>\n",
       "      <th>ORF204</th>\n",
       "      <td>0.000000</td>\n",
       "      <td>0.000000</td>\n",
       "      <td>0.000000</td>\n",
       "      <td>0.000000</td>\n",
       "      <td>0.000000</td>\n",
       "      <td>2.215555</td>\n",
       "      <td>0.000000</td>\n",
       "      <td>2.933565</td>\n",
       "      <td>0.000000</td>\n",
       "      <td>0.999275</td>\n",
       "      <td>...</td>\n",
       "      <td>0.000000</td>\n",
       "      <td>0.852571</td>\n",
       "      <td>0.000000</td>\n",
       "      <td>1.005231</td>\n",
       "      <td>0.000000</td>\n",
       "      <td>0.000000</td>\n",
       "      <td>0.000000</td>\n",
       "      <td>0.000000</td>\n",
       "      <td>0.000000</td>\n",
       "      <td>2.629616</td>\n",
       "    </tr>\n",
       "  </tbody>\n",
       "</table>\n",
       "<p>33602 rows × 32 columns</p>\n",
       "</div>"
      ],
      "text/plain": [
       "                          X02_CL       X02_LD       X05_CL       X05_LD  \\\n",
       "gene_id   gene_name                                                       \n",
       "AT1G01010 NAC001      390.293893   349.524048   388.666491   273.408022   \n",
       "AT1G01020 ARV1        208.070585   254.531449   173.741643   234.008613   \n",
       "AT1G01030 NGA3        149.914211   171.717389   126.123563   151.628030   \n",
       "AT1G01040 DCL1       1055.861293  1144.782595  1190.452002  1246.454040   \n",
       "AT1G01046 MIR838A       0.000000     1.217854     0.000000     0.000000   \n",
       "...                          ...          ...          ...          ...   \n",
       "ATMG01370 ORF111D       1.292364    20.703515     1.286975    17.908822   \n",
       "ATMG01380 RRN5          0.000000     1.217854     0.000000     2.387843   \n",
       "ATMG01390 RRN18      2014.795295  5350.031852  2082.325772  5821.561206   \n",
       "ATMG01400 ORF105B       0.000000     0.000000     0.000000     0.000000   \n",
       "ATMG01410 ORF204        0.000000     0.000000     0.000000     0.000000   \n",
       "\n",
       "                          X08_CL       X08_LD       X11_CL       X11_LD  \\\n",
       "gene_id   gene_name                                                       \n",
       "AT1G01010 NAC001      309.093640   317.932202   267.178791   434.167596   \n",
       "AT1G01020 ARV1        199.622976   214.908875   238.708920   242.508027   \n",
       "AT1G01030 NGA3         96.591763   127.394436    86.504609   155.478936   \n",
       "AT1G01040 DCL1       1161.247635  1200.831035  1240.629387   860.512353   \n",
       "AT1G01046 MIR838A       0.000000     0.000000     0.000000     0.000000   \n",
       "...                          ...          ...          ...          ...   \n",
       "ATMG01370 ORF111D       2.146484    17.724443     2.189990    22.490664   \n",
       "ATMG01380 RRN5          0.000000     0.000000     0.000000     2.933565   \n",
       "ATMG01390 RRN18      2714.228529  5921.071845  2375.044254  4878.518327   \n",
       "ATMG01400 ORF105B       0.000000     1.107778     0.000000     0.977855   \n",
       "ATMG01410 ORF204        0.000000     2.215555     0.000000     2.933565   \n",
       "\n",
       "                          X14_CL       X14_LD  ...       X35_CL       X35_LD  \\\n",
       "gene_id   gene_name                            ...                             \n",
       "AT1G01010 NAC001      256.892941   275.799858  ...   386.689784   291.579265   \n",
       "AT1G01020 ARV1        205.727542   270.803484  ...   160.103139   238.719866   \n",
       "AT1G01030 NGA3         99.132961    92.932561  ...    85.478794   106.571369   \n",
       "AT1G01040 DCL1       1137.364183  1047.240041  ...  1375.801549  1139.034790   \n",
       "AT1G01046 MIR838A       0.000000     1.998550  ...     1.356806     0.000000   \n",
       "...                          ...          ...  ...          ...          ...   \n",
       "ATMG01370 ORF111D       0.000000    32.976070  ...     4.070419    23.019416   \n",
       "ATMG01380 RRN5          0.000000     2.997825  ...     0.000000     2.557713   \n",
       "ATMG01390 RRN18      2039.154341  5254.187153  ...  1704.148664  6611.687725   \n",
       "ATMG01400 ORF105B       0.000000     0.000000  ...     0.000000     0.000000   \n",
       "ATMG01410 ORF204        0.000000     0.999275  ...     0.000000     0.852571   \n",
       "\n",
       "                          X38_CL       X38_LD       X41_CL       X41_LD  \\\n",
       "gene_id   gene_name                                                       \n",
       "AT1G01010 NAC001      288.363481   494.573598   317.088005   339.475567   \n",
       "AT1G01020 ARV1        163.440673   245.276337   170.834236   268.053435   \n",
       "AT1G01030 NGA3         66.625497   163.852635    90.947722   145.489529   \n",
       "AT1G01040 DCL1       1216.956351   975.073964  1275.726162   982.274757   \n",
       "AT1G01046 MIR838A       0.000000     0.000000     1.229023     1.763509   \n",
       "...                          ...          ...          ...          ...   \n",
       "ATMG01370 ORF111D       4.164094    13.068002     0.000000    24.689132   \n",
       "ATMG01380 RRN5          1.041023     2.010462     0.000000     4.408774   \n",
       "ATMG01390 RRN18      1289.827989  6408.346929  1246.229603  5934.209258   \n",
       "ATMG01400 ORF105B       0.000000     0.000000     0.000000     0.000000   \n",
       "ATMG01410 ORF204        0.000000     1.005231     0.000000     0.000000   \n",
       "\n",
       "                          X44_CL       X44_LD       X47_CL       X47_LD  \n",
       "gene_id   gene_name                                                      \n",
       "AT1G01010 NAC001      304.036414   446.340484   317.325031   477.275322  \n",
       "AT1G01020 ARV1        210.670901   248.920654   142.389437   205.110056  \n",
       "AT1G01030 NGA3        122.093363   173.815285   109.843280   186.702743  \n",
       "AT1G01040 DCL1       1554.894887  1173.789637  1282.861022  1217.512254  \n",
       "AT1G01046 MIR838A       0.000000     0.000000     0.000000     0.000000  \n",
       "...                          ...          ...          ...          ...  \n",
       "ATMG01370 ORF111D       0.000000    21.458677     6.780449    19.722121  \n",
       "ATMG01380 RRN5          0.000000     0.000000     0.000000     5.259232  \n",
       "ATMG01390 RRN18      1100.037260  5201.583329  1129.622866  5081.733113  \n",
       "ATMG01400 ORF105B       0.000000     1.072934     0.000000     0.000000  \n",
       "ATMG01410 ORF204        0.000000     0.000000     0.000000     2.629616  \n",
       "\n",
       "[33602 rows x 32 columns]"
      ]
     },
     "execution_count": 21,
     "metadata": {},
     "output_type": "execute_result"
    }
   ],
   "source": [
    "import pandas as pd\n",
    "import numpy as np\n",
    "\n",
    "df = pd.read_csv('./docs/examples/salmon.merged.gene_counts.tsv', sep='\\t', index_col=[0,1])\n",
    "norm_df = tx.deseq_normalization(df)\n",
    "norm_df"
   ]
  },
  {
   "cell_type": "code",
   "execution_count": 42,
   "id": "276a183a-c1fc-4a1f-b323-167f28d84dac",
   "metadata": {},
   "outputs": [
    {
     "name": "stderr",
     "output_type": "stream",
     "text": [
      "Fitting GP:  10%|██████████████▋                                                                                                                                            | 1901/20000 [00:04<00:42, 429.74it/s, loss=673]\n"
     ]
    },
    {
     "data": {
      "image/png": "[encoded data removed]",
      "text/plain": [
       "<Figure size 576x288 with 1 Axes>"
      ]
     },
     "metadata": {
      "needs_background": "light"
     },
     "output_type": "display_data"
    }
   ],
   "source": [
    "from plotnine import (\n",
    "    ggplot, geom_point, geom_jitter, geom_line, geom_smooth, geom_ribbon, geom_rect, geom_boxplot,\n",
    "    aes, facet_wrap, theme_bw, theme_void, theme_matplotlib, theme_linedraw, theme_minimal, theme_seaborn,\n",
    "    theme, ylim, ggtitle, scale_y_continuous\n",
    ")\n",
    "\n",
    "covariates = pd.DataFrame(\n",
    "    [[float(c[0]), 0.0 if c[1] == 'CL' else 1.0] for c in (c[1:].split('_') for c in df.columns)],\n",
    "    columns=['time','treatment'],\n",
    "    index=df.columns\n",
    ")\n",
    "\n",
    "expression = norm_df.loc['AT1G01010'].T\n",
    "expression.columns = ['expression']\n",
    "gp = tx.GP('~ time + treatment', covariates, expression, likelihood='gaussian', kernel='rbf')\n",
    "gp.fit(n_steps=20000, lr=0.1, tol=1e-6)\n",
    "fig,ax = plt.subplots(1, figsize=(8,4))\n",
    "ax.plot(gp.losses_)\n",
    "#ax.set_yscale('log')\n",
    "ax.set_xscale('log')"
   ]
  },
  {
   "cell_type": "code",
   "execution_count": 41,
   "id": "9b39a924-e053-4e61-a27c-ceb1991ba110",
   "metadata": {},
   "outputs": [
    {
     "data": {
      "image/png": "[encoded data removed]",
      "text/plain": [
       "<Figure size 640x480 with 1 Axes>"
      ]
     },
     "metadata": {
      "needs_background": "light"
     },
     "output_type": "display_data"
    },
    {
     "data": {
      "text/plain": [
       "<ggplot: (381449897)>"
      ]
     },
     "execution_count": 41,
     "metadata": {},
     "output_type": "execute_result"
    }
   ],
   "source": [
    "x_range = range(-50,100)\n",
    "\n",
    "test_x = pd.DataFrame(dict(\n",
    "    time=list(x_range) * 2,\n",
    "    treatment=[*[0]*len(x_range), *[1]*len(x_range)]\n",
    "),dtype=np.float32)\n",
    "percentiles = gp.predict(test_x)\n",
    "\n",
    "\n",
    "train_df = pd.concat([covariates, expression], axis=1)\n",
    "test_df = pd.concat([test_x, percentiles], axis=1)\n",
    "(\n",
    "    ggplot(train_df, aes(x='time', y='expression', group='treatment'))\n",
    "    + geom_point(aes(color='factor(treatment)'))\n",
    "    + geom_line(aes(x='time',y='p50', color='factor(treatment)'), data=test_df, inherit_aes=False, )\n",
    "    + geom_ribbon(aes(x='time', ymin='p5', ymax='p95', fill='factor(treatment)'), alpha=.3, data=test_df, inherit_aes=False,)\n",
    "    + geom_ribbon(aes(x='time', ymin='p2.5', ymax='p97.5', fill='factor(treatment)'), alpha=.2, data=test_df, inherit_aes=False,)\n",
    "    + geom_ribbon(aes(x='time', ymin='p0.5', ymax='p99.5', fill='factor(treatment)'), alpha=.1, data=test_df, inherit_aes=False,)\n",
    "    + scale_y_continuous(limits=(0, test_df.max().max()))\n",
    "    + theme_minimal()\n",
    ")"
   ]
  },
  {
   "cell_type": "code",
   "execution_count": 35,
   "id": "052056e3-2821-4606-899b-4ff1102bb1f2",
   "metadata": {},
   "outputs": [
    {
     "data": {
      "text/plain": [
       "100"
      ]
     },
     "execution_count": 35,
     "metadata": {},
     "output_type": "execute_result"
    }
   ],
   "source": [
    "len(range(-25,75))"
   ]
  },
  {
   "cell_type": "code",
   "execution_count": 37,
   "id": "6b1c508b-b438-4636-83a8-fedb0818a864",
   "metadata": {},
   "outputs": [
    {
     "data": {
      "text/plain": [
       "({'constant': Parameter containing:\n",
       "  tensor([168.7028], requires_grad=True)},\n",
       " tensor([5.8346], dtype=torch.float64))"
      ]
     },
     "execution_count": 37,
     "metadata": {},
     "output_type": "execute_result"
    }
   ],
   "source": [
    "dict(gp.mean_module.named_parameters()),torch.log(torch.tensor(expression.mean()))"
   ]
  },
  {
   "cell_type": "code",
   "execution_count": 38,
   "id": "b36b6c8c-64b0-4476-a7b9-7dcce1e087e7",
   "metadata": {},
   "outputs": [
    {
     "data": {
      "text/plain": [
       "{'raw_outputscale': Parameter containing:\n",
       " tensor(425.5222, requires_grad=True),\n",
       " 'base_kernel.raw_lengthscale': Parameter containing:\n",
       " tensor([[31.8021,  2.3545]], requires_grad=True)}"
      ]
     },
     "execution_count": 38,
     "metadata": {},
     "output_type": "execute_result"
    }
   ],
   "source": [
    "dict(gp.covar_module.named_parameters())"
   ]
  },
  {
   "cell_type": "code",
   "execution_count": 30,
   "id": "0f7dbeb8-9529-42e3-bf40-e283773d6aa2",
   "metadata": {},
   "outputs": [
    {
     "data": {
      "text/plain": [
       "tensor([3., 1.])"
      ]
     },
     "execution_count": 30,
     "metadata": {},
     "output_type": "execute_result"
    }
   ],
   "source": [
    "torch.max(torch.diff(gp.train_x, axis=0), axis=0).values"
   ]
  },
  {
   "cell_type": "code",
   "execution_count": 20,
   "id": "05464d28-4408-42c3-a150-80c2e3e3fd87",
   "metadata": {},
   "outputs": [
    {
     "data": {
      "image/png": "[encoded data removed]",
      "text/plain": [
       "<Figure size 720x360 with 1 Axes>"
      ]
     },
     "metadata": {
      "needs_background": "light"
     },
     "output_type": "display_data"
    }
   ],
   "source": [
    "fig,ax = plt.subplots(1, figsize=(10,5))\n",
    "ax.plot(gp.losses_)\n",
    "ax.set_yscale('log')\n",
    "ax.set_xscale('log')"
   ]
  }
 ],
 "metadata": {
  "kernelspec": {
   "display_name": "Python 3 (ipykernel)",
   "language": "python",
   "name": "python3"
  },
  "language_info": {
   "codemirror_mode": {
    "name": "ipython",
    "version": 3
   },
   "file_extension": ".py",
   "mimetype": "text/x-python",
   "name": "python",
   "nbconvert_exporter": "python",
   "pygments_lexer": "ipython3",
   "version": "3.9.9"
  }
 },
 "nbformat": 4,
 "nbformat_minor": 5
}
